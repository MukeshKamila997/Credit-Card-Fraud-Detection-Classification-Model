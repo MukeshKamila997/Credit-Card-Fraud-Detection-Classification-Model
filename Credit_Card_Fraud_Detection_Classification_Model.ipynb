{
  "nbformat": 4,
  "nbformat_minor": 0,
  "metadata": {
    "colab": {
      "provenance": []
    },
    "kernelspec": {
      "name": "python3",
      "display_name": "Python 3"
    },
    "language_info": {
      "name": "python"
    }
  },
  "cells": [
    {
      "cell_type": "markdown",
      "source": [
        "#**PROJECT NAME** : **Credit Card Fraud Detection**"
      ],
      "metadata": {
        "id": "VRWdy5GIVcqm"
      }
    },
    {
      "cell_type": "markdown",
      "source": [
        "* Building a machine learning model to identify fraudulent credit card\n",
        "transactions.\n",
        "* Preprocess and normalize the transaction data, handle class\n",
        "imbalance issues, and split the dataset into training and testing sets.\n",
        "Train a classification algorithm, such as logistic regression or random\n",
        "forests, to classify transactions as fraudulent or genuine.\n",
        "* Evaluate the model's performance using metrics like precision, recall,\n",
        "and F1-score, and consider techniques like oversampling or\n",
        "undersampling for improving results."
      ],
      "metadata": {
        "id": "JSDj0GfuVsep"
      }
    },
    {
      "cell_type": "markdown",
      "metadata": {
        "id": "Mm5p7eyEULCX"
      },
      "source": [
        "## Import Libraries"
      ]
    },
    {
      "cell_type": "code",
      "execution_count": 1,
      "metadata": {
        "id": "9OsDEFeqX0aU"
      },
      "outputs": [],
      "source": [
        "import numpy as np\n",
        "import pandas as pd\n",
        "\n",
        "import matplotlib.pyplot as plt\n",
        "import seaborn as sns\n",
        "%matplotlib inline\n",
        "import plotly.express as px\n",
        "import plotly.graph_objects as go\n",
        "import plotly.figure_factory as ff\n",
        "\n",
        "import warnings\n",
        "warnings.filterwarnings('ignore')\n",
        "\n",
        "# Libraries for ML Modeling\n",
        "from sklearn.model_selection import train_test_split\n",
        "from sklearn.preprocessing import StandardScaler\n",
        "from sklearn.linear_model import LogisticRegression\n",
        "from sklearn.ensemble import RandomForestClassifier\n",
        "from sklearn.neighbors import KNeighborsClassifier\n",
        "from sklearn.metrics import classification_report, confusion_matrix, accuracy_score\n",
        "\n",
        "# Thresholds\n",
        "from sklearn.metrics import roc_auc_score\n",
        "from sklearn.metrics import roc_curve"
      ]
    },
    {
      "cell_type": "markdown",
      "metadata": {
        "id": "PZUBbnxMjSIt"
      },
      "source": [
        "##Loading Dataset"
      ]
    },
    {
      "cell_type": "code",
      "source": [
        "# Loading Dataset\n",
        "df = pd.read_csv('/content/drive/MyDrive/CodSoft/Project 4/creditcard.csv.zip')"
      ],
      "metadata": {
        "id": "uEep8Je7ZZq5"
      },
      "execution_count": 2,
      "outputs": []
    },
    {
      "cell_type": "markdown",
      "metadata": {
        "id": "Ov4Dk9dJjTb4"
      },
      "source": [
        "##Understanding of Data"
      ]
    },
    {
      "cell_type": "code",
      "source": [
        "df.head(5)"
      ],
      "metadata": {
        "colab": {
          "base_uri": "https://localhost:8080/",
          "height": 255
        },
        "id": "MlqYLfG-aIxh",
        "outputId": "0e2d56a4-dfc2-40ec-d724-077eccde18cc"
      },
      "execution_count": null,
      "outputs": [
        {
          "output_type": "execute_result",
          "data": {
            "text/plain": [
              "   Time        V1        V2        V3        V4        V5        V6        V7  \\\n",
              "0   0.0 -1.359807 -0.072781  2.536347  1.378155 -0.338321  0.462388  0.239599   \n",
              "1   0.0  1.191857  0.266151  0.166480  0.448154  0.060018 -0.082361 -0.078803   \n",
              "2   1.0 -1.358354 -1.340163  1.773209  0.379780 -0.503198  1.800499  0.791461   \n",
              "3   1.0 -0.966272 -0.185226  1.792993 -0.863291 -0.010309  1.247203  0.237609   \n",
              "4   2.0 -1.158233  0.877737  1.548718  0.403034 -0.407193  0.095921  0.592941   \n",
              "\n",
              "         V8        V9  ...       V21       V22       V23       V24       V25  \\\n",
              "0  0.098698  0.363787  ... -0.018307  0.277838 -0.110474  0.066928  0.128539   \n",
              "1  0.085102 -0.255425  ... -0.225775 -0.638672  0.101288 -0.339846  0.167170   \n",
              "2  0.247676 -1.514654  ...  0.247998  0.771679  0.909412 -0.689281 -0.327642   \n",
              "3  0.377436 -1.387024  ... -0.108300  0.005274 -0.190321 -1.175575  0.647376   \n",
              "4 -0.270533  0.817739  ... -0.009431  0.798278 -0.137458  0.141267 -0.206010   \n",
              "\n",
              "        V26       V27       V28  Amount  Class  \n",
              "0 -0.189115  0.133558 -0.021053  149.62      0  \n",
              "1  0.125895 -0.008983  0.014724    2.69      0  \n",
              "2 -0.139097 -0.055353 -0.059752  378.66      0  \n",
              "3 -0.221929  0.062723  0.061458  123.50      0  \n",
              "4  0.502292  0.219422  0.215153   69.99      0  \n",
              "\n",
              "[5 rows x 31 columns]"
            ],
            "text/html": [
              "\n",
              "  <div id=\"df-abe79afe-f21f-4d52-bfae-4a152f4d5da2\" class=\"colab-df-container\">\n",
              "    <div>\n",
              "<style scoped>\n",
              "    .dataframe tbody tr th:only-of-type {\n",
              "        vertical-align: middle;\n",
              "    }\n",
              "\n",
              "    .dataframe tbody tr th {\n",
              "        vertical-align: top;\n",
              "    }\n",
              "\n",
              "    .dataframe thead th {\n",
              "        text-align: right;\n",
              "    }\n",
              "</style>\n",
              "<table border=\"1\" class=\"dataframe\">\n",
              "  <thead>\n",
              "    <tr style=\"text-align: right;\">\n",
              "      <th></th>\n",
              "      <th>Time</th>\n",
              "      <th>V1</th>\n",
              "      <th>V2</th>\n",
              "      <th>V3</th>\n",
              "      <th>V4</th>\n",
              "      <th>V5</th>\n",
              "      <th>V6</th>\n",
              "      <th>V7</th>\n",
              "      <th>V8</th>\n",
              "      <th>V9</th>\n",
              "      <th>...</th>\n",
              "      <th>V21</th>\n",
              "      <th>V22</th>\n",
              "      <th>V23</th>\n",
              "      <th>V24</th>\n",
              "      <th>V25</th>\n",
              "      <th>V26</th>\n",
              "      <th>V27</th>\n",
              "      <th>V28</th>\n",
              "      <th>Amount</th>\n",
              "      <th>Class</th>\n",
              "    </tr>\n",
              "  </thead>\n",
              "  <tbody>\n",
              "    <tr>\n",
              "      <th>0</th>\n",
              "      <td>0.0</td>\n",
              "      <td>-1.359807</td>\n",
              "      <td>-0.072781</td>\n",
              "      <td>2.536347</td>\n",
              "      <td>1.378155</td>\n",
              "      <td>-0.338321</td>\n",
              "      <td>0.462388</td>\n",
              "      <td>0.239599</td>\n",
              "      <td>0.098698</td>\n",
              "      <td>0.363787</td>\n",
              "      <td>...</td>\n",
              "      <td>-0.018307</td>\n",
              "      <td>0.277838</td>\n",
              "      <td>-0.110474</td>\n",
              "      <td>0.066928</td>\n",
              "      <td>0.128539</td>\n",
              "      <td>-0.189115</td>\n",
              "      <td>0.133558</td>\n",
              "      <td>-0.021053</td>\n",
              "      <td>149.62</td>\n",
              "      <td>0</td>\n",
              "    </tr>\n",
              "    <tr>\n",
              "      <th>1</th>\n",
              "      <td>0.0</td>\n",
              "      <td>1.191857</td>\n",
              "      <td>0.266151</td>\n",
              "      <td>0.166480</td>\n",
              "      <td>0.448154</td>\n",
              "      <td>0.060018</td>\n",
              "      <td>-0.082361</td>\n",
              "      <td>-0.078803</td>\n",
              "      <td>0.085102</td>\n",
              "      <td>-0.255425</td>\n",
              "      <td>...</td>\n",
              "      <td>-0.225775</td>\n",
              "      <td>-0.638672</td>\n",
              "      <td>0.101288</td>\n",
              "      <td>-0.339846</td>\n",
              "      <td>0.167170</td>\n",
              "      <td>0.125895</td>\n",
              "      <td>-0.008983</td>\n",
              "      <td>0.014724</td>\n",
              "      <td>2.69</td>\n",
              "      <td>0</td>\n",
              "    </tr>\n",
              "    <tr>\n",
              "      <th>2</th>\n",
              "      <td>1.0</td>\n",
              "      <td>-1.358354</td>\n",
              "      <td>-1.340163</td>\n",
              "      <td>1.773209</td>\n",
              "      <td>0.379780</td>\n",
              "      <td>-0.503198</td>\n",
              "      <td>1.800499</td>\n",
              "      <td>0.791461</td>\n",
              "      <td>0.247676</td>\n",
              "      <td>-1.514654</td>\n",
              "      <td>...</td>\n",
              "      <td>0.247998</td>\n",
              "      <td>0.771679</td>\n",
              "      <td>0.909412</td>\n",
              "      <td>-0.689281</td>\n",
              "      <td>-0.327642</td>\n",
              "      <td>-0.139097</td>\n",
              "      <td>-0.055353</td>\n",
              "      <td>-0.059752</td>\n",
              "      <td>378.66</td>\n",
              "      <td>0</td>\n",
              "    </tr>\n",
              "    <tr>\n",
              "      <th>3</th>\n",
              "      <td>1.0</td>\n",
              "      <td>-0.966272</td>\n",
              "      <td>-0.185226</td>\n",
              "      <td>1.792993</td>\n",
              "      <td>-0.863291</td>\n",
              "      <td>-0.010309</td>\n",
              "      <td>1.247203</td>\n",
              "      <td>0.237609</td>\n",
              "      <td>0.377436</td>\n",
              "      <td>-1.387024</td>\n",
              "      <td>...</td>\n",
              "      <td>-0.108300</td>\n",
              "      <td>0.005274</td>\n",
              "      <td>-0.190321</td>\n",
              "      <td>-1.175575</td>\n",
              "      <td>0.647376</td>\n",
              "      <td>-0.221929</td>\n",
              "      <td>0.062723</td>\n",
              "      <td>0.061458</td>\n",
              "      <td>123.50</td>\n",
              "      <td>0</td>\n",
              "    </tr>\n",
              "    <tr>\n",
              "      <th>4</th>\n",
              "      <td>2.0</td>\n",
              "      <td>-1.158233</td>\n",
              "      <td>0.877737</td>\n",
              "      <td>1.548718</td>\n",
              "      <td>0.403034</td>\n",
              "      <td>-0.407193</td>\n",
              "      <td>0.095921</td>\n",
              "      <td>0.592941</td>\n",
              "      <td>-0.270533</td>\n",
              "      <td>0.817739</td>\n",
              "      <td>...</td>\n",
              "      <td>-0.009431</td>\n",
              "      <td>0.798278</td>\n",
              "      <td>-0.137458</td>\n",
              "      <td>0.141267</td>\n",
              "      <td>-0.206010</td>\n",
              "      <td>0.502292</td>\n",
              "      <td>0.219422</td>\n",
              "      <td>0.215153</td>\n",
              "      <td>69.99</td>\n",
              "      <td>0</td>\n",
              "    </tr>\n",
              "  </tbody>\n",
              "</table>\n",
              "<p>5 rows × 31 columns</p>\n",
              "</div>\n",
              "    <div class=\"colab-df-buttons\">\n",
              "\n",
              "  <div class=\"colab-df-container\">\n",
              "    <button class=\"colab-df-convert\" onclick=\"convertToInteractive('df-abe79afe-f21f-4d52-bfae-4a152f4d5da2')\"\n",
              "            title=\"Convert this dataframe to an interactive table.\"\n",
              "            style=\"display:none;\">\n",
              "\n",
              "  <svg xmlns=\"http://www.w3.org/2000/svg\" height=\"24px\" viewBox=\"0 -960 960 960\">\n",
              "    <path d=\"M120-120v-720h720v720H120Zm60-500h600v-160H180v160Zm220 220h160v-160H400v160Zm0 220h160v-160H400v160ZM180-400h160v-160H180v160Zm440 0h160v-160H620v160ZM180-180h160v-160H180v160Zm440 0h160v-160H620v160Z\"/>\n",
              "  </svg>\n",
              "    </button>\n",
              "\n",
              "  <style>\n",
              "    .colab-df-container {\n",
              "      display:flex;\n",
              "      gap: 12px;\n",
              "    }\n",
              "\n",
              "    .colab-df-convert {\n",
              "      background-color: #E8F0FE;\n",
              "      border: none;\n",
              "      border-radius: 50%;\n",
              "      cursor: pointer;\n",
              "      display: none;\n",
              "      fill: #1967D2;\n",
              "      height: 32px;\n",
              "      padding: 0 0 0 0;\n",
              "      width: 32px;\n",
              "    }\n",
              "\n",
              "    .colab-df-convert:hover {\n",
              "      background-color: #E2EBFA;\n",
              "      box-shadow: 0px 1px 2px rgba(60, 64, 67, 0.3), 0px 1px 3px 1px rgba(60, 64, 67, 0.15);\n",
              "      fill: #174EA6;\n",
              "    }\n",
              "\n",
              "    .colab-df-buttons div {\n",
              "      margin-bottom: 4px;\n",
              "    }\n",
              "\n",
              "    [theme=dark] .colab-df-convert {\n",
              "      background-color: #3B4455;\n",
              "      fill: #D2E3FC;\n",
              "    }\n",
              "\n",
              "    [theme=dark] .colab-df-convert:hover {\n",
              "      background-color: #434B5C;\n",
              "      box-shadow: 0px 1px 3px 1px rgba(0, 0, 0, 0.15);\n",
              "      filter: drop-shadow(0px 1px 2px rgba(0, 0, 0, 0.3));\n",
              "      fill: #FFFFFF;\n",
              "    }\n",
              "  </style>\n",
              "\n",
              "    <script>\n",
              "      const buttonEl =\n",
              "        document.querySelector('#df-abe79afe-f21f-4d52-bfae-4a152f4d5da2 button.colab-df-convert');\n",
              "      buttonEl.style.display =\n",
              "        google.colab.kernel.accessAllowed ? 'block' : 'none';\n",
              "\n",
              "      async function convertToInteractive(key) {\n",
              "        const element = document.querySelector('#df-abe79afe-f21f-4d52-bfae-4a152f4d5da2');\n",
              "        const dataTable =\n",
              "          await google.colab.kernel.invokeFunction('convertToInteractive',\n",
              "                                                    [key], {});\n",
              "        if (!dataTable) return;\n",
              "\n",
              "        const docLinkHtml = 'Like what you see? Visit the ' +\n",
              "          '<a target=\"_blank\" href=https://colab.research.google.com/notebooks/data_table.ipynb>data table notebook</a>'\n",
              "          + ' to learn more about interactive tables.';\n",
              "        element.innerHTML = '';\n",
              "        dataTable['output_type'] = 'display_data';\n",
              "        await google.colab.output.renderOutput(dataTable, element);\n",
              "        const docLink = document.createElement('div');\n",
              "        docLink.innerHTML = docLinkHtml;\n",
              "        element.appendChild(docLink);\n",
              "      }\n",
              "    </script>\n",
              "  </div>\n",
              "\n",
              "\n",
              "<div id=\"df-affa6d29-b8fc-4885-bdde-c8bd3a53b7dc\">\n",
              "  <button class=\"colab-df-quickchart\" onclick=\"quickchart('df-affa6d29-b8fc-4885-bdde-c8bd3a53b7dc')\"\n",
              "            title=\"Suggest charts\"\n",
              "            style=\"display:none;\">\n",
              "\n",
              "<svg xmlns=\"http://www.w3.org/2000/svg\" height=\"24px\"viewBox=\"0 0 24 24\"\n",
              "     width=\"24px\">\n",
              "    <g>\n",
              "        <path d=\"M19 3H5c-1.1 0-2 .9-2 2v14c0 1.1.9 2 2 2h14c1.1 0 2-.9 2-2V5c0-1.1-.9-2-2-2zM9 17H7v-7h2v7zm4 0h-2V7h2v10zm4 0h-2v-4h2v4z\"/>\n",
              "    </g>\n",
              "</svg>\n",
              "  </button>\n",
              "\n",
              "<style>\n",
              "  .colab-df-quickchart {\n",
              "      --bg-color: #E8F0FE;\n",
              "      --fill-color: #1967D2;\n",
              "      --hover-bg-color: #E2EBFA;\n",
              "      --hover-fill-color: #174EA6;\n",
              "      --disabled-fill-color: #AAA;\n",
              "      --disabled-bg-color: #DDD;\n",
              "  }\n",
              "\n",
              "  [theme=dark] .colab-df-quickchart {\n",
              "      --bg-color: #3B4455;\n",
              "      --fill-color: #D2E3FC;\n",
              "      --hover-bg-color: #434B5C;\n",
              "      --hover-fill-color: #FFFFFF;\n",
              "      --disabled-bg-color: #3B4455;\n",
              "      --disabled-fill-color: #666;\n",
              "  }\n",
              "\n",
              "  .colab-df-quickchart {\n",
              "    background-color: var(--bg-color);\n",
              "    border: none;\n",
              "    border-radius: 50%;\n",
              "    cursor: pointer;\n",
              "    display: none;\n",
              "    fill: var(--fill-color);\n",
              "    height: 32px;\n",
              "    padding: 0;\n",
              "    width: 32px;\n",
              "  }\n",
              "\n",
              "  .colab-df-quickchart:hover {\n",
              "    background-color: var(--hover-bg-color);\n",
              "    box-shadow: 0 1px 2px rgba(60, 64, 67, 0.3), 0 1px 3px 1px rgba(60, 64, 67, 0.15);\n",
              "    fill: var(--button-hover-fill-color);\n",
              "  }\n",
              "\n",
              "  .colab-df-quickchart-complete:disabled,\n",
              "  .colab-df-quickchart-complete:disabled:hover {\n",
              "    background-color: var(--disabled-bg-color);\n",
              "    fill: var(--disabled-fill-color);\n",
              "    box-shadow: none;\n",
              "  }\n",
              "\n",
              "  .colab-df-spinner {\n",
              "    border: 2px solid var(--fill-color);\n",
              "    border-color: transparent;\n",
              "    border-bottom-color: var(--fill-color);\n",
              "    animation:\n",
              "      spin 1s steps(1) infinite;\n",
              "  }\n",
              "\n",
              "  @keyframes spin {\n",
              "    0% {\n",
              "      border-color: transparent;\n",
              "      border-bottom-color: var(--fill-color);\n",
              "      border-left-color: var(--fill-color);\n",
              "    }\n",
              "    20% {\n",
              "      border-color: transparent;\n",
              "      border-left-color: var(--fill-color);\n",
              "      border-top-color: var(--fill-color);\n",
              "    }\n",
              "    30% {\n",
              "      border-color: transparent;\n",
              "      border-left-color: var(--fill-color);\n",
              "      border-top-color: var(--fill-color);\n",
              "      border-right-color: var(--fill-color);\n",
              "    }\n",
              "    40% {\n",
              "      border-color: transparent;\n",
              "      border-right-color: var(--fill-color);\n",
              "      border-top-color: var(--fill-color);\n",
              "    }\n",
              "    60% {\n",
              "      border-color: transparent;\n",
              "      border-right-color: var(--fill-color);\n",
              "    }\n",
              "    80% {\n",
              "      border-color: transparent;\n",
              "      border-right-color: var(--fill-color);\n",
              "      border-bottom-color: var(--fill-color);\n",
              "    }\n",
              "    90% {\n",
              "      border-color: transparent;\n",
              "      border-bottom-color: var(--fill-color);\n",
              "    }\n",
              "  }\n",
              "</style>\n",
              "\n",
              "  <script>\n",
              "    async function quickchart(key) {\n",
              "      const quickchartButtonEl =\n",
              "        document.querySelector('#' + key + ' button');\n",
              "      quickchartButtonEl.disabled = true;  // To prevent multiple clicks.\n",
              "      quickchartButtonEl.classList.add('colab-df-spinner');\n",
              "      try {\n",
              "        const charts = await google.colab.kernel.invokeFunction(\n",
              "            'suggestCharts', [key], {});\n",
              "      } catch (error) {\n",
              "        console.error('Error during call to suggestCharts:', error);\n",
              "      }\n",
              "      quickchartButtonEl.classList.remove('colab-df-spinner');\n",
              "      quickchartButtonEl.classList.add('colab-df-quickchart-complete');\n",
              "    }\n",
              "    (() => {\n",
              "      let quickchartButtonEl =\n",
              "        document.querySelector('#df-affa6d29-b8fc-4885-bdde-c8bd3a53b7dc button');\n",
              "      quickchartButtonEl.style.display =\n",
              "        google.colab.kernel.accessAllowed ? 'block' : 'none';\n",
              "    })();\n",
              "  </script>\n",
              "</div>\n",
              "    </div>\n",
              "  </div>\n"
            ]
          },
          "metadata": {},
          "execution_count": 3
        }
      ]
    },
    {
      "cell_type": "code",
      "source": [
        "print(f'No. of Columns: {df.shape[1]}')\n",
        "print(f'No. of Rows: {df.shape[0]}')\n",
        "df.shape"
      ],
      "metadata": {
        "colab": {
          "base_uri": "https://localhost:8080/"
        },
        "id": "zC1cKyhtarzv",
        "outputId": "75212b22-92dc-4c77-f90c-d8de0dbdd3dc"
      },
      "execution_count": null,
      "outputs": [
        {
          "output_type": "stream",
          "name": "stdout",
          "text": [
            "No. of Columns: 31\n",
            "No. of Rows: 284807\n"
          ]
        },
        {
          "output_type": "execute_result",
          "data": {
            "text/plain": [
              "(284807, 31)"
            ]
          },
          "metadata": {},
          "execution_count": 4
        }
      ]
    },
    {
      "cell_type": "code",
      "source": [
        "df.info()"
      ],
      "metadata": {
        "colab": {
          "base_uri": "https://localhost:8080/"
        },
        "id": "qUIXj-KjX_n4",
        "outputId": "339384e6-bc5b-477a-d4df-53a8c622a272"
      },
      "execution_count": null,
      "outputs": [
        {
          "output_type": "stream",
          "name": "stdout",
          "text": [
            "<class 'pandas.core.frame.DataFrame'>\n",
            "RangeIndex: 284807 entries, 0 to 284806\n",
            "Data columns (total 31 columns):\n",
            " #   Column  Non-Null Count   Dtype  \n",
            "---  ------  --------------   -----  \n",
            " 0   Time    284807 non-null  float64\n",
            " 1   V1      284807 non-null  float64\n",
            " 2   V2      284807 non-null  float64\n",
            " 3   V3      284807 non-null  float64\n",
            " 4   V4      284807 non-null  float64\n",
            " 5   V5      284807 non-null  float64\n",
            " 6   V6      284807 non-null  float64\n",
            " 7   V7      284807 non-null  float64\n",
            " 8   V8      284807 non-null  float64\n",
            " 9   V9      284807 non-null  float64\n",
            " 10  V10     284807 non-null  float64\n",
            " 11  V11     284807 non-null  float64\n",
            " 12  V12     284807 non-null  float64\n",
            " 13  V13     284807 non-null  float64\n",
            " 14  V14     284807 non-null  float64\n",
            " 15  V15     284807 non-null  float64\n",
            " 16  V16     284807 non-null  float64\n",
            " 17  V17     284807 non-null  float64\n",
            " 18  V18     284807 non-null  float64\n",
            " 19  V19     284807 non-null  float64\n",
            " 20  V20     284807 non-null  float64\n",
            " 21  V21     284807 non-null  float64\n",
            " 22  V22     284807 non-null  float64\n",
            " 23  V23     284807 non-null  float64\n",
            " 24  V24     284807 non-null  float64\n",
            " 25  V25     284807 non-null  float64\n",
            " 26  V26     284807 non-null  float64\n",
            " 27  V27     284807 non-null  float64\n",
            " 28  V28     284807 non-null  float64\n",
            " 29  Amount  284807 non-null  float64\n",
            " 30  Class   284807 non-null  int64  \n",
            "dtypes: float64(30), int64(1)\n",
            "memory usage: 67.4 MB\n"
          ]
        }
      ]
    },
    {
      "cell_type": "code",
      "source": [
        "df.columns"
      ],
      "metadata": {
        "colab": {
          "base_uri": "https://localhost:8080/"
        },
        "id": "ps6iqISJe_ab",
        "outputId": "8a59d5ac-a393-4124-890d-3298685c20ad"
      },
      "execution_count": null,
      "outputs": [
        {
          "output_type": "execute_result",
          "data": {
            "text/plain": [
              "Index(['Time', 'V1', 'V2', 'V3', 'V4', 'V5', 'V6', 'V7', 'V8', 'V9', 'V10',\n",
              "       'V11', 'V12', 'V13', 'V14', 'V15', 'V16', 'V17', 'V18', 'V19', 'V20',\n",
              "       'V21', 'V22', 'V23', 'V24', 'V25', 'V26', 'V27', 'V28', 'Amount',\n",
              "       'Class'],\n",
              "      dtype='object')"
            ]
          },
          "metadata": {},
          "execution_count": 6
        }
      ]
    },
    {
      "cell_type": "markdown",
      "metadata": {
        "id": "qtG3VwPBIUWn"
      },
      "source": [
        "##Data Cleaning"
      ]
    },
    {
      "cell_type": "code",
      "source": [
        "# Checking Null Values\n",
        "df.isna().sum()"
      ],
      "metadata": {
        "colab": {
          "base_uri": "https://localhost:8080/"
        },
        "id": "PvBosrJugecl",
        "outputId": "30797ebe-1ad1-438a-a67b-f9521aafe02f"
      },
      "execution_count": null,
      "outputs": [
        {
          "output_type": "execute_result",
          "data": {
            "text/plain": [
              "Time      0\n",
              "V1        0\n",
              "V2        0\n",
              "V3        0\n",
              "V4        0\n",
              "V5        0\n",
              "V6        0\n",
              "V7        0\n",
              "V8        0\n",
              "V9        0\n",
              "V10       0\n",
              "V11       0\n",
              "V12       0\n",
              "V13       0\n",
              "V14       0\n",
              "V15       0\n",
              "V16       0\n",
              "V17       0\n",
              "V18       0\n",
              "V19       0\n",
              "V20       0\n",
              "V21       0\n",
              "V22       0\n",
              "V23       0\n",
              "V24       0\n",
              "V25       0\n",
              "V26       0\n",
              "V27       0\n",
              "V28       0\n",
              "Amount    0\n",
              "Class     0\n",
              "dtype: int64"
            ]
          },
          "metadata": {},
          "execution_count": 7
        }
      ]
    },
    {
      "cell_type": "code",
      "source": [
        "# Checking Duplicates\n",
        "duplicates = df[df.duplicated()].head(5)\n",
        "duplicates\n",
        "\n",
        "duplicate_ = df.groupby(['Amount', 'Time']).filter(lambda x: len(x)>1).head(5)\n",
        "duplicate_"
      ],
      "metadata": {
        "id": "Fs_7pRAbiVP5",
        "colab": {
          "base_uri": "https://localhost:8080/",
          "height": 255
        },
        "outputId": "27c96c34-a6ee-4ae6-ab01-69cc738da292"
      },
      "execution_count": null,
      "outputs": [
        {
          "output_type": "execute_result",
          "data": {
            "text/plain": [
              "     Time        V1        V2        V3        V4        V5        V6  \\\n",
              "32   26.0 -0.529912  0.873892  1.347247  0.145457  0.414209  0.100223   \n",
              "33   26.0 -0.529912  0.873892  1.347247  0.145457  0.414209  0.100223   \n",
              "34   26.0 -0.535388  0.865268  1.351076  0.147575  0.433680  0.086983   \n",
              "35   26.0 -0.535388  0.865268  1.351076  0.147575  0.433680  0.086983   \n",
              "108  73.0  1.162281  1.248178 -1.581317  1.475024  1.138357 -1.020373   \n",
              "\n",
              "           V7        V8        V9  ...       V21       V22       V23  \\\n",
              "32   0.711206  0.176066 -0.286717  ...  0.046949  0.208105 -0.185548   \n",
              "33   0.711206  0.176066 -0.286717  ...  0.046949  0.208105 -0.185548   \n",
              "34   0.693039  0.179742 -0.285642  ...  0.049526  0.206537 -0.187108   \n",
              "35   0.693039  0.179742 -0.285642  ...  0.049526  0.206537 -0.187108   \n",
              "108  0.638387 -0.136762 -0.805505  ... -0.124012 -0.227150 -0.199185   \n",
              "\n",
              "          V24       V25       V26       V27       V28  Amount  Class  \n",
              "32   0.001031  0.098816 -0.552904 -0.073288  0.023307    6.14      0  \n",
              "33   0.001031  0.098816 -0.552904 -0.073288  0.023307    6.14      0  \n",
              "34   0.000753  0.098117 -0.553471 -0.078306  0.025427    1.77      0  \n",
              "35   0.000753  0.098117 -0.553471 -0.078306  0.025427    1.77      0  \n",
              "108 -0.289757  0.776244 -0.283950  0.056747  0.084706    1.00      0  \n",
              "\n",
              "[5 rows x 31 columns]"
            ],
            "text/html": [
              "\n",
              "  <div id=\"df-094091c7-b715-4f52-bc0d-0956eb8b2005\" class=\"colab-df-container\">\n",
              "    <div>\n",
              "<style scoped>\n",
              "    .dataframe tbody tr th:only-of-type {\n",
              "        vertical-align: middle;\n",
              "    }\n",
              "\n",
              "    .dataframe tbody tr th {\n",
              "        vertical-align: top;\n",
              "    }\n",
              "\n",
              "    .dataframe thead th {\n",
              "        text-align: right;\n",
              "    }\n",
              "</style>\n",
              "<table border=\"1\" class=\"dataframe\">\n",
              "  <thead>\n",
              "    <tr style=\"text-align: right;\">\n",
              "      <th></th>\n",
              "      <th>Time</th>\n",
              "      <th>V1</th>\n",
              "      <th>V2</th>\n",
              "      <th>V3</th>\n",
              "      <th>V4</th>\n",
              "      <th>V5</th>\n",
              "      <th>V6</th>\n",
              "      <th>V7</th>\n",
              "      <th>V8</th>\n",
              "      <th>V9</th>\n",
              "      <th>...</th>\n",
              "      <th>V21</th>\n",
              "      <th>V22</th>\n",
              "      <th>V23</th>\n",
              "      <th>V24</th>\n",
              "      <th>V25</th>\n",
              "      <th>V26</th>\n",
              "      <th>V27</th>\n",
              "      <th>V28</th>\n",
              "      <th>Amount</th>\n",
              "      <th>Class</th>\n",
              "    </tr>\n",
              "  </thead>\n",
              "  <tbody>\n",
              "    <tr>\n",
              "      <th>32</th>\n",
              "      <td>26.0</td>\n",
              "      <td>-0.529912</td>\n",
              "      <td>0.873892</td>\n",
              "      <td>1.347247</td>\n",
              "      <td>0.145457</td>\n",
              "      <td>0.414209</td>\n",
              "      <td>0.100223</td>\n",
              "      <td>0.711206</td>\n",
              "      <td>0.176066</td>\n",
              "      <td>-0.286717</td>\n",
              "      <td>...</td>\n",
              "      <td>0.046949</td>\n",
              "      <td>0.208105</td>\n",
              "      <td>-0.185548</td>\n",
              "      <td>0.001031</td>\n",
              "      <td>0.098816</td>\n",
              "      <td>-0.552904</td>\n",
              "      <td>-0.073288</td>\n",
              "      <td>0.023307</td>\n",
              "      <td>6.14</td>\n",
              "      <td>0</td>\n",
              "    </tr>\n",
              "    <tr>\n",
              "      <th>33</th>\n",
              "      <td>26.0</td>\n",
              "      <td>-0.529912</td>\n",
              "      <td>0.873892</td>\n",
              "      <td>1.347247</td>\n",
              "      <td>0.145457</td>\n",
              "      <td>0.414209</td>\n",
              "      <td>0.100223</td>\n",
              "      <td>0.711206</td>\n",
              "      <td>0.176066</td>\n",
              "      <td>-0.286717</td>\n",
              "      <td>...</td>\n",
              "      <td>0.046949</td>\n",
              "      <td>0.208105</td>\n",
              "      <td>-0.185548</td>\n",
              "      <td>0.001031</td>\n",
              "      <td>0.098816</td>\n",
              "      <td>-0.552904</td>\n",
              "      <td>-0.073288</td>\n",
              "      <td>0.023307</td>\n",
              "      <td>6.14</td>\n",
              "      <td>0</td>\n",
              "    </tr>\n",
              "    <tr>\n",
              "      <th>34</th>\n",
              "      <td>26.0</td>\n",
              "      <td>-0.535388</td>\n",
              "      <td>0.865268</td>\n",
              "      <td>1.351076</td>\n",
              "      <td>0.147575</td>\n",
              "      <td>0.433680</td>\n",
              "      <td>0.086983</td>\n",
              "      <td>0.693039</td>\n",
              "      <td>0.179742</td>\n",
              "      <td>-0.285642</td>\n",
              "      <td>...</td>\n",
              "      <td>0.049526</td>\n",
              "      <td>0.206537</td>\n",
              "      <td>-0.187108</td>\n",
              "      <td>0.000753</td>\n",
              "      <td>0.098117</td>\n",
              "      <td>-0.553471</td>\n",
              "      <td>-0.078306</td>\n",
              "      <td>0.025427</td>\n",
              "      <td>1.77</td>\n",
              "      <td>0</td>\n",
              "    </tr>\n",
              "    <tr>\n",
              "      <th>35</th>\n",
              "      <td>26.0</td>\n",
              "      <td>-0.535388</td>\n",
              "      <td>0.865268</td>\n",
              "      <td>1.351076</td>\n",
              "      <td>0.147575</td>\n",
              "      <td>0.433680</td>\n",
              "      <td>0.086983</td>\n",
              "      <td>0.693039</td>\n",
              "      <td>0.179742</td>\n",
              "      <td>-0.285642</td>\n",
              "      <td>...</td>\n",
              "      <td>0.049526</td>\n",
              "      <td>0.206537</td>\n",
              "      <td>-0.187108</td>\n",
              "      <td>0.000753</td>\n",
              "      <td>0.098117</td>\n",
              "      <td>-0.553471</td>\n",
              "      <td>-0.078306</td>\n",
              "      <td>0.025427</td>\n",
              "      <td>1.77</td>\n",
              "      <td>0</td>\n",
              "    </tr>\n",
              "    <tr>\n",
              "      <th>108</th>\n",
              "      <td>73.0</td>\n",
              "      <td>1.162281</td>\n",
              "      <td>1.248178</td>\n",
              "      <td>-1.581317</td>\n",
              "      <td>1.475024</td>\n",
              "      <td>1.138357</td>\n",
              "      <td>-1.020373</td>\n",
              "      <td>0.638387</td>\n",
              "      <td>-0.136762</td>\n",
              "      <td>-0.805505</td>\n",
              "      <td>...</td>\n",
              "      <td>-0.124012</td>\n",
              "      <td>-0.227150</td>\n",
              "      <td>-0.199185</td>\n",
              "      <td>-0.289757</td>\n",
              "      <td>0.776244</td>\n",
              "      <td>-0.283950</td>\n",
              "      <td>0.056747</td>\n",
              "      <td>0.084706</td>\n",
              "      <td>1.00</td>\n",
              "      <td>0</td>\n",
              "    </tr>\n",
              "  </tbody>\n",
              "</table>\n",
              "<p>5 rows × 31 columns</p>\n",
              "</div>\n",
              "    <div class=\"colab-df-buttons\">\n",
              "\n",
              "  <div class=\"colab-df-container\">\n",
              "    <button class=\"colab-df-convert\" onclick=\"convertToInteractive('df-094091c7-b715-4f52-bc0d-0956eb8b2005')\"\n",
              "            title=\"Convert this dataframe to an interactive table.\"\n",
              "            style=\"display:none;\">\n",
              "\n",
              "  <svg xmlns=\"http://www.w3.org/2000/svg\" height=\"24px\" viewBox=\"0 -960 960 960\">\n",
              "    <path d=\"M120-120v-720h720v720H120Zm60-500h600v-160H180v160Zm220 220h160v-160H400v160Zm0 220h160v-160H400v160ZM180-400h160v-160H180v160Zm440 0h160v-160H620v160ZM180-180h160v-160H180v160Zm440 0h160v-160H620v160Z\"/>\n",
              "  </svg>\n",
              "    </button>\n",
              "\n",
              "  <style>\n",
              "    .colab-df-container {\n",
              "      display:flex;\n",
              "      gap: 12px;\n",
              "    }\n",
              "\n",
              "    .colab-df-convert {\n",
              "      background-color: #E8F0FE;\n",
              "      border: none;\n",
              "      border-radius: 50%;\n",
              "      cursor: pointer;\n",
              "      display: none;\n",
              "      fill: #1967D2;\n",
              "      height: 32px;\n",
              "      padding: 0 0 0 0;\n",
              "      width: 32px;\n",
              "    }\n",
              "\n",
              "    .colab-df-convert:hover {\n",
              "      background-color: #E2EBFA;\n",
              "      box-shadow: 0px 1px 2px rgba(60, 64, 67, 0.3), 0px 1px 3px 1px rgba(60, 64, 67, 0.15);\n",
              "      fill: #174EA6;\n",
              "    }\n",
              "\n",
              "    .colab-df-buttons div {\n",
              "      margin-bottom: 4px;\n",
              "    }\n",
              "\n",
              "    [theme=dark] .colab-df-convert {\n",
              "      background-color: #3B4455;\n",
              "      fill: #D2E3FC;\n",
              "    }\n",
              "\n",
              "    [theme=dark] .colab-df-convert:hover {\n",
              "      background-color: #434B5C;\n",
              "      box-shadow: 0px 1px 3px 1px rgba(0, 0, 0, 0.15);\n",
              "      filter: drop-shadow(0px 1px 2px rgba(0, 0, 0, 0.3));\n",
              "      fill: #FFFFFF;\n",
              "    }\n",
              "  </style>\n",
              "\n",
              "    <script>\n",
              "      const buttonEl =\n",
              "        document.querySelector('#df-094091c7-b715-4f52-bc0d-0956eb8b2005 button.colab-df-convert');\n",
              "      buttonEl.style.display =\n",
              "        google.colab.kernel.accessAllowed ? 'block' : 'none';\n",
              "\n",
              "      async function convertToInteractive(key) {\n",
              "        const element = document.querySelector('#df-094091c7-b715-4f52-bc0d-0956eb8b2005');\n",
              "        const dataTable =\n",
              "          await google.colab.kernel.invokeFunction('convertToInteractive',\n",
              "                                                    [key], {});\n",
              "        if (!dataTable) return;\n",
              "\n",
              "        const docLinkHtml = 'Like what you see? Visit the ' +\n",
              "          '<a target=\"_blank\" href=https://colab.research.google.com/notebooks/data_table.ipynb>data table notebook</a>'\n",
              "          + ' to learn more about interactive tables.';\n",
              "        element.innerHTML = '';\n",
              "        dataTable['output_type'] = 'display_data';\n",
              "        await google.colab.output.renderOutput(dataTable, element);\n",
              "        const docLink = document.createElement('div');\n",
              "        docLink.innerHTML = docLinkHtml;\n",
              "        element.appendChild(docLink);\n",
              "      }\n",
              "    </script>\n",
              "  </div>\n",
              "\n",
              "\n",
              "<div id=\"df-5824f86a-cf31-4330-9937-43469e24a8ce\">\n",
              "  <button class=\"colab-df-quickchart\" onclick=\"quickchart('df-5824f86a-cf31-4330-9937-43469e24a8ce')\"\n",
              "            title=\"Suggest charts\"\n",
              "            style=\"display:none;\">\n",
              "\n",
              "<svg xmlns=\"http://www.w3.org/2000/svg\" height=\"24px\"viewBox=\"0 0 24 24\"\n",
              "     width=\"24px\">\n",
              "    <g>\n",
              "        <path d=\"M19 3H5c-1.1 0-2 .9-2 2v14c0 1.1.9 2 2 2h14c1.1 0 2-.9 2-2V5c0-1.1-.9-2-2-2zM9 17H7v-7h2v7zm4 0h-2V7h2v10zm4 0h-2v-4h2v4z\"/>\n",
              "    </g>\n",
              "</svg>\n",
              "  </button>\n",
              "\n",
              "<style>\n",
              "  .colab-df-quickchart {\n",
              "      --bg-color: #E8F0FE;\n",
              "      --fill-color: #1967D2;\n",
              "      --hover-bg-color: #E2EBFA;\n",
              "      --hover-fill-color: #174EA6;\n",
              "      --disabled-fill-color: #AAA;\n",
              "      --disabled-bg-color: #DDD;\n",
              "  }\n",
              "\n",
              "  [theme=dark] .colab-df-quickchart {\n",
              "      --bg-color: #3B4455;\n",
              "      --fill-color: #D2E3FC;\n",
              "      --hover-bg-color: #434B5C;\n",
              "      --hover-fill-color: #FFFFFF;\n",
              "      --disabled-bg-color: #3B4455;\n",
              "      --disabled-fill-color: #666;\n",
              "  }\n",
              "\n",
              "  .colab-df-quickchart {\n",
              "    background-color: var(--bg-color);\n",
              "    border: none;\n",
              "    border-radius: 50%;\n",
              "    cursor: pointer;\n",
              "    display: none;\n",
              "    fill: var(--fill-color);\n",
              "    height: 32px;\n",
              "    padding: 0;\n",
              "    width: 32px;\n",
              "  }\n",
              "\n",
              "  .colab-df-quickchart:hover {\n",
              "    background-color: var(--hover-bg-color);\n",
              "    box-shadow: 0 1px 2px rgba(60, 64, 67, 0.3), 0 1px 3px 1px rgba(60, 64, 67, 0.15);\n",
              "    fill: var(--button-hover-fill-color);\n",
              "  }\n",
              "\n",
              "  .colab-df-quickchart-complete:disabled,\n",
              "  .colab-df-quickchart-complete:disabled:hover {\n",
              "    background-color: var(--disabled-bg-color);\n",
              "    fill: var(--disabled-fill-color);\n",
              "    box-shadow: none;\n",
              "  }\n",
              "\n",
              "  .colab-df-spinner {\n",
              "    border: 2px solid var(--fill-color);\n",
              "    border-color: transparent;\n",
              "    border-bottom-color: var(--fill-color);\n",
              "    animation:\n",
              "      spin 1s steps(1) infinite;\n",
              "  }\n",
              "\n",
              "  @keyframes spin {\n",
              "    0% {\n",
              "      border-color: transparent;\n",
              "      border-bottom-color: var(--fill-color);\n",
              "      border-left-color: var(--fill-color);\n",
              "    }\n",
              "    20% {\n",
              "      border-color: transparent;\n",
              "      border-left-color: var(--fill-color);\n",
              "      border-top-color: var(--fill-color);\n",
              "    }\n",
              "    30% {\n",
              "      border-color: transparent;\n",
              "      border-left-color: var(--fill-color);\n",
              "      border-top-color: var(--fill-color);\n",
              "      border-right-color: var(--fill-color);\n",
              "    }\n",
              "    40% {\n",
              "      border-color: transparent;\n",
              "      border-right-color: var(--fill-color);\n",
              "      border-top-color: var(--fill-color);\n",
              "    }\n",
              "    60% {\n",
              "      border-color: transparent;\n",
              "      border-right-color: var(--fill-color);\n",
              "    }\n",
              "    80% {\n",
              "      border-color: transparent;\n",
              "      border-right-color: var(--fill-color);\n",
              "      border-bottom-color: var(--fill-color);\n",
              "    }\n",
              "    90% {\n",
              "      border-color: transparent;\n",
              "      border-bottom-color: var(--fill-color);\n",
              "    }\n",
              "  }\n",
              "</style>\n",
              "\n",
              "  <script>\n",
              "    async function quickchart(key) {\n",
              "      const quickchartButtonEl =\n",
              "        document.querySelector('#' + key + ' button');\n",
              "      quickchartButtonEl.disabled = true;  // To prevent multiple clicks.\n",
              "      quickchartButtonEl.classList.add('colab-df-spinner');\n",
              "      try {\n",
              "        const charts = await google.colab.kernel.invokeFunction(\n",
              "            'suggestCharts', [key], {});\n",
              "      } catch (error) {\n",
              "        console.error('Error during call to suggestCharts:', error);\n",
              "      }\n",
              "      quickchartButtonEl.classList.remove('colab-df-spinner');\n",
              "      quickchartButtonEl.classList.add('colab-df-quickchart-complete');\n",
              "    }\n",
              "    (() => {\n",
              "      let quickchartButtonEl =\n",
              "        document.querySelector('#df-5824f86a-cf31-4330-9937-43469e24a8ce button');\n",
              "      quickchartButtonEl.style.display =\n",
              "        google.colab.kernel.accessAllowed ? 'block' : 'none';\n",
              "    })();\n",
              "  </script>\n",
              "</div>\n",
              "    </div>\n",
              "  </div>\n"
            ]
          },
          "metadata": {},
          "execution_count": 8
        }
      ]
    },
    {
      "cell_type": "markdown",
      "source": [
        "Data is clean, no duplicates, no missing values."
      ],
      "metadata": {
        "id": "_CBULct_xXBy"
      }
    },
    {
      "cell_type": "markdown",
      "source": [
        "##**Exploratory Data Analysis**"
      ],
      "metadata": {
        "id": "MXwnxwJpzxz7"
      }
    },
    {
      "cell_type": "code",
      "source": [
        "df['Amount'].describe()"
      ],
      "metadata": {
        "colab": {
          "base_uri": "https://localhost:8080/"
        },
        "id": "QqqdfATw0qFZ",
        "outputId": "2c6d34cc-01cd-4c40-f23e-f2d73034372c"
      },
      "execution_count": null,
      "outputs": [
        {
          "output_type": "execute_result",
          "data": {
            "text/plain": [
              "count    284807.000000\n",
              "mean         88.349619\n",
              "std         250.120109\n",
              "min           0.000000\n",
              "25%           5.600000\n",
              "50%          22.000000\n",
              "75%          77.165000\n",
              "max       25691.160000\n",
              "Name: Amount, dtype: float64"
            ]
          },
          "metadata": {},
          "execution_count": 9
        }
      ]
    },
    {
      "cell_type": "code",
      "source": [
        "plt.hist(df['Class'])\n",
        "plt.yscale('log')\n",
        "plt.show()"
      ],
      "metadata": {
        "colab": {
          "base_uri": "https://localhost:8080/",
          "height": 430
        },
        "id": "mP2-w3qpevF2",
        "outputId": "d0c79fb8-d298-4b6e-f88e-e8167965c98c"
      },
      "execution_count": null,
      "outputs": [
        {
          "output_type": "display_data",
          "data": {
            "text/plain": [
              "<Figure size 640x480 with 1 Axes>"
            ],
            "image/png": "[encoded data removed]"
          },
          "metadata": {}
        }
      ]
    },
    {
      "cell_type": "code",
      "source": [
        "df.groupby(['Class'])['Amount'].sum()"
      ],
      "metadata": {
        "colab": {
          "base_uri": "https://localhost:8080/"
        },
        "id": "rzUgagT7forX",
        "outputId": "1c074344-c221-4623-8654-eaebb6d56f0d"
      },
      "execution_count": null,
      "outputs": [
        {
          "output_type": "execute_result",
          "data": {
            "text/plain": [
              "Class\n",
              "0    25102462.04\n",
              "1       60127.97\n",
              "Name: Amount, dtype: float64"
            ]
          },
          "metadata": {},
          "execution_count": 11
        }
      ]
    },
    {
      "cell_type": "code",
      "source": [
        "df['Class'].value_counts()"
      ],
      "metadata": {
        "colab": {
          "base_uri": "https://localhost:8080/"
        },
        "id": "-EGr-IfY0BGR",
        "outputId": "4fd35196-c310-4826-9a07-5f8193ecf6f9"
      },
      "execution_count": null,
      "outputs": [
        {
          "output_type": "execute_result",
          "data": {
            "text/plain": [
              "0    284315\n",
              "1       492\n",
              "Name: Class, dtype: int64"
            ]
          },
          "metadata": {},
          "execution_count": 12
        }
      ]
    },
    {
      "cell_type": "markdown",
      "source": [
        "* As per above output, clearly data is imbalanced.\n",
        "* Data is in PCA transformed format, so no EDA is required.\n",
        "* We will directly load the model and evaluate the model and as we know the data is imbalanced, So we will work on both before and after imbalanced data, let's understand the differance between before and after working on Imbalance data."
      ],
      "metadata": {
        "id": "x_SWOtqE1VOn"
      }
    },
    {
      "cell_type": "markdown",
      "source": [
        "# **Predictive Aanlysis (Imbalance Data)**"
      ],
      "metadata": {
        "id": "tEDH4BCw8pWT"
      }
    },
    {
      "cell_type": "markdown",
      "source": [
        "### Data Preprocessing"
      ],
      "metadata": {
        "id": "_uY2nn4HZIqL"
      }
    },
    {
      "cell_type": "markdown",
      "source": [
        "Feature Engineering"
      ],
      "metadata": {
        "id": "d0W1RjTEh98w"
      }
    },
    {
      "cell_type": "code",
      "source": [
        "# Select and define features(x) and target variable(y)\n",
        "x = df.iloc[:,:-1]\n",
        "y = df['Class']"
      ],
      "metadata": {
        "id": "v80IMz-ktC4O"
      },
      "execution_count": null,
      "outputs": []
    },
    {
      "cell_type": "code",
      "source": [
        "# Scaling & standardize the features # transforming\n",
        "scaler = StandardScaler()\n",
        "x = scaler.fit_transform(x)"
      ],
      "metadata": {
        "id": "WexVL2vi83nO"
      },
      "execution_count": null,
      "outputs": []
    },
    {
      "cell_type": "markdown",
      "source": [
        "Data Spliting"
      ],
      "metadata": {
        "id": "QcQCA19mTl38"
      }
    },
    {
      "cell_type": "code",
      "source": [
        "# Splitting the dataset into training and testing parts\n",
        "x_train, x_test, y_train, y_test = train_test_split(x, y, test_size= 0.2, random_state= 123)"
      ],
      "metadata": {
        "id": "du8IMVjg3K3c"
      },
      "execution_count": null,
      "outputs": []
    },
    {
      "cell_type": "code",
      "source": [
        "print('x_train: ', x_train.shape)\n",
        "print('x_test: ', x_test.shape)\n",
        "print('y_train: ', y_train.shape)\n",
        "print('y_test: ', y_test.shape)"
      ],
      "metadata": {
        "colab": {
          "base_uri": "https://localhost:8080/"
        },
        "id": "sF3Es9sl5_ET",
        "outputId": "af467b97-5b31-4774-96b4-9bed7023435c"
      },
      "execution_count": null,
      "outputs": [
        {
          "output_type": "stream",
          "name": "stdout",
          "text": [
            "x_train:  (227845, 30)\n",
            "x_test:  (56962, 30)\n",
            "y_train:  (227845,)\n",
            "y_test:  (56962,)\n"
          ]
        }
      ]
    },
    {
      "cell_type": "markdown",
      "source": [
        "### Model Building & Evaluation"
      ],
      "metadata": {
        "id": "QaPUUdhT-WYb"
      }
    },
    {
      "cell_type": "markdown",
      "source": [
        "Logistic Regression"
      ],
      "metadata": {
        "id": "MxsUFc9j4V5_"
      }
    },
    {
      "cell_type": "code",
      "source": [
        "# Logistic Regression Model\n",
        "lr = LogisticRegression()\n",
        "lr.fit(x_train, y_train)\n",
        "lr_pred = lr.predict(x_test)"
      ],
      "metadata": {
        "id": "k3Q004Qj4OFM"
      },
      "execution_count": null,
      "outputs": []
    },
    {
      "cell_type": "code",
      "source": [
        "# Model Evaluation\n",
        "print('The performance evaluation of Linear Regression is below: ', '\\n')\n",
        "print('Accuracy Score: ', accuracy_score(y_test, lr_pred), '\\n')\n",
        "print('Confusion Matrix: ', '\\n', confusion_matrix(y_test, lr_pred), '\\n')\n",
        "print('Classification Report: ', '\\n', classification_report(y_test, lr_pred))"
      ],
      "metadata": {
        "colab": {
          "base_uri": "https://localhost:8080/"
        },
        "id": "Eb4ra9Hq4mlx",
        "outputId": "2c609d7b-9057-4b46-da02-19541f4f8b16"
      },
      "execution_count": null,
      "outputs": [
        {
          "output_type": "stream",
          "name": "stdout",
          "text": [
            "The performance evaluation of Linear Regression is below:  \n",
            "\n",
            "Accuracy Score:  0.9989642217618764 \n",
            "\n",
            "Confusion Matrix:  \n",
            " [[56833    14]\n",
            " [   45    70]] \n",
            "\n",
            "Classification Report:  \n",
            "               precision    recall  f1-score   support\n",
            "\n",
            "           0       1.00      1.00      1.00     56847\n",
            "           1       0.83      0.61      0.70       115\n",
            "\n",
            "    accuracy                           1.00     56962\n",
            "   macro avg       0.92      0.80      0.85     56962\n",
            "weighted avg       1.00      1.00      1.00     56962\n",
            "\n"
          ]
        }
      ]
    },
    {
      "cell_type": "code",
      "source": [
        "conf_mtrx = confusion_matrix(y_test, lr_pred)\n",
        "labels = ['No Fraud', 'Fraud']\n",
        "sns.heatmap(conf_mtrx, annot= True, fmt='d', cmap= 'coolwarm', linewidth= 0.2, xticklabels= labels, yticklabels= labels)"
      ],
      "metadata": {
        "colab": {
          "base_uri": "https://localhost:8080/",
          "height": 447
        },
        "id": "2r9o0y1n9Knp",
        "outputId": "e3ab8911-20a5-4533-ebfe-e98bcb11ca12"
      },
      "execution_count": null,
      "outputs": [
        {
          "output_type": "execute_result",
          "data": {
            "text/plain": [
              "<Axes: >"
            ]
          },
          "metadata": {},
          "execution_count": 19
        },
        {
          "output_type": "display_data",
          "data": {
            "text/plain": [
              "<Figure size 640x480 with 2 Axes>"
            ],
            "image/png": "[encoded data removed]"
          },
          "metadata": {}
        }
      ]
    },
    {
      "cell_type": "markdown",
      "source": [
        "Random Forest Classification Model"
      ],
      "metadata": {
        "id": "RyYIw8Gs_9xn"
      }
    },
    {
      "cell_type": "code",
      "source": [
        "# Random Forest Classifier\n",
        "rfc = RandomForestClassifier()\n",
        "rfc.fit(x_train, y_train)\n",
        "random_forest_pred = rfc.predict(x_test)"
      ],
      "metadata": {
        "id": "0z8vdfXP-b6r"
      },
      "execution_count": null,
      "outputs": []
    },
    {
      "cell_type": "code",
      "source": [
        "# Model Evaluation\n",
        "print('The performance evaluation of Random Forest Classification is below: ', '\\n')\n",
        "print('Accuracy Score: ', accuracy_score(y_test, random_forest_pred), '\\n')\n",
        "print('Confusion Matrix: ', '\\n', confusion_matrix(y_test, random_forest_pred), '\\n')\n",
        "print('Classification Report: ', '\\n', classification_report(y_test, random_forest_pred))"
      ],
      "metadata": {
        "colab": {
          "base_uri": "https://localhost:8080/"
        },
        "id": "2GEnLZgfkKtb",
        "outputId": "c9aaf5ea-7a89-4620-86c7-06616504f8cc"
      },
      "execution_count": null,
      "outputs": [
        {
          "output_type": "stream",
          "name": "stdout",
          "text": [
            "The performance evaluation of Random Forest Classification is below:  \n",
            "\n",
            "Accuracy Score:  0.9995259997893332 \n",
            "\n",
            "Confusion Matrix:  \n",
            " [[56843     4]\n",
            " [   23    92]] \n",
            "\n",
            "Classification Report:  \n",
            "               precision    recall  f1-score   support\n",
            "\n",
            "           0       1.00      1.00      1.00     56847\n",
            "           1       0.96      0.80      0.87       115\n",
            "\n",
            "    accuracy                           1.00     56962\n",
            "   macro avg       0.98      0.90      0.94     56962\n",
            "weighted avg       1.00      1.00      1.00     56962\n",
            "\n"
          ]
        }
      ]
    },
    {
      "cell_type": "code",
      "source": [
        "rfc_conf_mtrx = confusion_matrix(y_test, random_forest_pred)\n",
        "labels = ['No Fraud', 'Fraud']\n",
        "\n",
        "sns.heatmap(rfc_conf_mtrx, annot= True, fmt='d', cmap= 'coolwarm', linewidth= 0.2, xticklabels= labels, yticklabels= labels)\n",
        "plt.xlabel('Predicted')\n",
        "plt.ylabel('Actual')\n",
        "plt.show()"
      ],
      "metadata": {
        "colab": {
          "base_uri": "https://localhost:8080/",
          "height": 449
        },
        "id": "zcjRbGB2opOF",
        "outputId": "418f38b9-ddb0-4291-b469-f061e2a56ea2"
      },
      "execution_count": null,
      "outputs": [
        {
          "output_type": "display_data",
          "data": {
            "text/plain": [
              "<Figure size 640x480 with 2 Axes>"
            ],
            "image/png": "[encoded data removed]"
          },
          "metadata": {}
        }
      ]
    },
    {
      "cell_type": "markdown",
      "source": [
        "* From the Above precision, Recall and F1-Score we are confirmed that our data is not overfit or underfit\n",
        "* Accuracy is getting 1 that we can uderstand because of large legit transations the results are showing as 1\n",
        "* we are consantrating on Fraud Transactions"
      ],
      "metadata": {
        "id": "yUjYP0ewA1e1"
      }
    },
    {
      "cell_type": "markdown",
      "source": [
        "Kneighbors Classification Model"
      ],
      "metadata": {
        "id": "s6VtQOOwqqVg"
      }
    },
    {
      "cell_type": "code",
      "source": [
        "# KNeighbors Classifier\n",
        "kneib = KNeighborsClassifier(n_neighbors= 4)\n",
        "kneib.fit(x_train, y_train)\n",
        "kneib_pred = kneib.predict(x_test)"
      ],
      "metadata": {
        "id": "bo4uEEtpqpB8"
      },
      "execution_count": null,
      "outputs": []
    },
    {
      "cell_type": "code",
      "source": [
        "# Model Evaluation\n",
        "print('The performance evaluation of KNeighbors Classification Model is below: ', '\\n')\n",
        "print('Accuracy Score: ', accuracy_score(y_test, kneib_pred), '\\n')\n",
        "print('Confusion Matrix: ', '\\n', confusion_matrix(y_test, kneib_pred), '\\n')\n",
        "print('Classification Report: ', '\\n', classification_report(y_test, kneib_pred))"
      ],
      "metadata": {
        "colab": {
          "base_uri": "https://localhost:8080/"
        },
        "id": "-EXP7B31xXYK",
        "outputId": "9be435f6-037b-4334-eed6-8346f89761e8"
      },
      "execution_count": null,
      "outputs": [
        {
          "output_type": "stream",
          "name": "stdout",
          "text": [
            "The performance evaluation of KNeighbors Classification Model is below:  \n",
            "\n",
            "Accuracy Score:  0.9994733330992591 \n",
            "\n",
            "Confusion Matrix:  \n",
            " [[56842     5]\n",
            " [   25    90]] \n",
            "\n",
            "Classification Report:  \n",
            "               precision    recall  f1-score   support\n",
            "\n",
            "           0       1.00      1.00      1.00     56847\n",
            "           1       0.95      0.78      0.86       115\n",
            "\n",
            "    accuracy                           1.00     56962\n",
            "   macro avg       0.97      0.89      0.93     56962\n",
            "weighted avg       1.00      1.00      1.00     56962\n",
            "\n"
          ]
        }
      ]
    },
    {
      "cell_type": "code",
      "source": [
        "kneib_conf_mtrx = confusion_matrix(y_test, random_forest_pred)\n",
        "labels = ['No Fraud', 'Fraud']\n",
        "\n",
        "sns.heatmap(kneib_conf_mtrx, annot= True, fmt='d', cmap= 'coolwarm', linewidth= 0.2, xticklabels= labels, yticklabels= labels)\n",
        "plt.xlabel('Predicted')\n",
        "plt.ylabel('Actual')\n",
        "plt.show()"
      ],
      "metadata": {
        "colab": {
          "base_uri": "https://localhost:8080/",
          "height": 449
        },
        "outputId": "43298da0-dd41-4204-eacb-b3c6606cb554",
        "id": "CoUTLe3TzokH"
      },
      "execution_count": null,
      "outputs": [
        {
          "output_type": "display_data",
          "data": {
            "text/plain": [
              "<Figure size 640x480 with 2 Axes>"
            ],
            "image/png": "[encoded data removed]"
          },
          "metadata": {}
        }
      ]
    },
    {
      "cell_type": "markdown",
      "source": [
        "The model performs exceptionally well in identifying \"No Fraud\" instances,achieving perfect precision and recall. However, for the \"Fraud\" class, there is room for improvement, especially in terms of recall, as it correctly identifies only 78% of actual fraud cases."
      ],
      "metadata": {
        "id": "MRGJ4Vq5Aedb"
      }
    },
    {
      "cell_type": "markdown",
      "source": [
        ".                   "
      ],
      "metadata": {
        "id": "RVwBRjRLCHVo"
      }
    },
    {
      "cell_type": "markdown",
      "source": [
        "# **Predictive Aanlysis (With Resampling Techniques)**"
      ],
      "metadata": {
        "id": "I-28_3il0WOC"
      }
    },
    {
      "cell_type": "markdown",
      "source": [
        "As the DATA is IMBALANCE we can use 2 methods either we can add the thresholds or we can use RASAMPLING TECHNIQUE."
      ],
      "metadata": {
        "id": "qlA3ZsQJ6HyF"
      }
    },
    {
      "cell_type": "markdown",
      "source": [
        "## Under-Sampling Technique"
      ],
      "metadata": {
        "id": "1bWuIkwmKo3U"
      }
    },
    {
      "cell_type": "markdown",
      "source": [
        "### Data Preprocessing"
      ],
      "metadata": {
        "id": "Ptu9EBQD5Row"
      }
    },
    {
      "cell_type": "code",
      "source": [
        "df['Class'].value_counts()"
      ],
      "metadata": {
        "colab": {
          "base_uri": "https://localhost:8080/"
        },
        "id": "mEzEfP0iB0d7",
        "outputId": "2cbe60ab-ed29-45f6-fe2a-52424d6e81cf"
      },
      "execution_count": null,
      "outputs": [
        {
          "output_type": "execute_result",
          "data": {
            "text/plain": [
              "0    284315\n",
              "1       492\n",
              "Name: Class, dtype: int64"
            ]
          },
          "metadata": {},
          "execution_count": 3
        }
      ]
    },
    {
      "cell_type": "markdown",
      "source": [
        "* Data is not balanced as we see 0 legit transactions are 284315, where as fraud transations are 492.\n",
        "* So we are using the Resampling Technique."
      ],
      "metadata": {
        "id": "Fy9BNtQ9CB5S"
      }
    },
    {
      "cell_type": "markdown",
      "source": [
        "Under-sampling the Majority Class:\n",
        "* Randomly remove instances from majority class to balance the class distribution.\n",
        "* We should be careful, not to remove too much data, as it may result information loss.\n",
        "* Create 2 datasets based on classification with equal rows.  "
      ],
      "metadata": {
        "id": "-VATcv-sD8nR"
      }
    },
    {
      "cell_type": "code",
      "source": [
        "# Create Datasets with equal rows\n",
        "df_0 = df[df['Class'] == 0].sample(n= 492, random_state= 42)\n",
        "df_1 = df[df['Class'] == 1].sample(n= 492, random_state= 42)\n",
        "\n",
        "print(f' Fraud Shape{df_1.shape}\\n No Fraud Shape{df_0.shape}')"
      ],
      "metadata": {
        "colab": {
          "base_uri": "https://localhost:8080/"
        },
        "id": "RxAy7Vl_OWH9",
        "outputId": "ab1dfc4e-2931-4370-9bd8-332694a2eb86"
      },
      "execution_count": 3,
      "outputs": [
        {
          "output_type": "stream",
          "name": "stdout",
          "text": [
            " Fraud Shape(492, 31)\n",
            " No Fraud Shape(492, 31)\n"
          ]
        }
      ]
    },
    {
      "cell_type": "code",
      "source": [
        "# Merge 2 Datasets\n",
        "merge_df = pd.concat([df_0, df_1], ignore_index= True)\n",
        "print(f'Merge Dataset Shape {merge_df.shape}')"
      ],
      "metadata": {
        "colab": {
          "base_uri": "https://localhost:8080/"
        },
        "id": "KokCYXUYQaXh",
        "outputId": "d3cc6e9a-9441-4e41-cd05-110ec25907ef"
      },
      "execution_count": 4,
      "outputs": [
        {
          "output_type": "stream",
          "name": "stdout",
          "text": [
            "Merge Dataset Shape (984, 31)\n"
          ]
        }
      ]
    },
    {
      "cell_type": "markdown",
      "source": [
        "Feature Engineering"
      ],
      "metadata": {
        "id": "VlsNPKq05m8P"
      }
    },
    {
      "cell_type": "code",
      "source": [
        "# Select and define features(x) and target variable(y)\n",
        "x_bal = merge_df.iloc[:,:-1]\n",
        "y_bal = merge_df['Class']"
      ],
      "metadata": {
        "id": "_QQbCQQAzhJI"
      },
      "execution_count": 5,
      "outputs": []
    },
    {
      "cell_type": "code",
      "source": [
        "# Scaling & standardize the features # transforming\n",
        "scaler = StandardScaler()\n",
        "x_bal = scaler.fit_transform(x_bal)"
      ],
      "metadata": {
        "id": "4gfNPY2d7Fov"
      },
      "execution_count": 6,
      "outputs": []
    },
    {
      "cell_type": "markdown",
      "source": [
        "Data Spliting"
      ],
      "metadata": {
        "id": "5cL9dmVo9tkM"
      }
    },
    {
      "cell_type": "code",
      "source": [
        "# Splitting the dataset into training and testing parts\n",
        "x_train_b, x_test_b, y_train_b, y_test_b = train_test_split(x_bal, y_bal, test_size= 0.2, random_state= 123)"
      ],
      "metadata": {
        "id": "Bkjl5xeb9kbx"
      },
      "execution_count": 7,
      "outputs": []
    },
    {
      "cell_type": "code",
      "source": [
        "print('x_train_b: ', x_train_b.shape)\n",
        "print('x_test_b: ', x_test_b.shape)\n",
        "print('y_train_b: ', y_train_b.shape)\n",
        "print('y_test_b: ', y_test_b.shape)"
      ],
      "metadata": {
        "colab": {
          "base_uri": "https://localhost:8080/"
        },
        "outputId": "fe9c1dd4-d41a-4305-afa1-1b3ff47a920c",
        "id": "JZsAfIbN9sxv"
      },
      "execution_count": 8,
      "outputs": [
        {
          "output_type": "stream",
          "name": "stdout",
          "text": [
            "x_train_b:  (787, 30)\n",
            "x_test_b:  (197, 30)\n",
            "y_train_b:  (787,)\n",
            "y_test_b:  (197,)\n"
          ]
        }
      ]
    },
    {
      "cell_type": "markdown",
      "source": [
        "### Model Building & Evaluation"
      ],
      "metadata": {
        "id": "veWRvBpR-Chy"
      }
    },
    {
      "cell_type": "markdown",
      "source": [
        "Logistic Regression Model"
      ],
      "metadata": {
        "id": "d1gVrgqw7Vuz"
      }
    },
    {
      "cell_type": "code",
      "source": [
        "# Logistic Regression\n",
        "bal_lr = LogisticRegression()\n",
        "bal_lr.fit(x_train_b, y_train_b)\n",
        "bal_lr_pred = bal_lr.predict(x_test_b)"
      ],
      "metadata": {
        "id": "DFFel7O89rhr"
      },
      "execution_count": 9,
      "outputs": []
    },
    {
      "cell_type": "code",
      "source": [
        "# Model Evaluation\n",
        "print('The performance evaluation of Logistic Regression Model is below: ', '\\n')\n",
        "print('Accuracy Score: ', accuracy_score(y_test_b, bal_lr_pred), '\\n')\n",
        "print('Confusion Matrix: ', '\\n', confusion_matrix(y_test_b, bal_lr_pred), '\\n')\n",
        "print('Classification Report: ', '\\n', classification_report(y_test_b, bal_lr_pred))"
      ],
      "metadata": {
        "colab": {
          "base_uri": "https://localhost:8080/"
        },
        "id": "Cdmtf-KI9fQe",
        "outputId": "d2a22219-38e3-4226-f969-d64fd086e678"
      },
      "execution_count": 10,
      "outputs": [
        {
          "output_type": "stream",
          "name": "stdout",
          "text": [
            "The performance evaluation of Logistic Regression Model is below:  \n",
            "\n",
            "Accuracy Score:  0.949238578680203 \n",
            "\n",
            "Confusion Matrix:  \n",
            " [[106   3]\n",
            " [  7  81]] \n",
            "\n",
            "Classification Report:  \n",
            "               precision    recall  f1-score   support\n",
            "\n",
            "           0       0.94      0.97      0.95       109\n",
            "           1       0.96      0.92      0.94        88\n",
            "\n",
            "    accuracy                           0.95       197\n",
            "   macro avg       0.95      0.95      0.95       197\n",
            "weighted avg       0.95      0.95      0.95       197\n",
            "\n"
          ]
        }
      ]
    },
    {
      "cell_type": "code",
      "source": [
        "bal_lrgr_conf_mtrx = confusion_matrix(y_test_b, bal_lr_pred)\n",
        "labels = ['No Fraud', 'Fraud']\n",
        "\n",
        "sns.heatmap(bal_lrgr_conf_mtrx, annot= True, fmt='d', cmap= 'coolwarm', linewidth= 0.2, xticklabels= labels, yticklabels= labels)\n",
        "plt.xlabel('Predicted')\n",
        "plt.ylabel('Actual')\n",
        "plt.show()"
      ],
      "metadata": {
        "colab": {
          "base_uri": "https://localhost:8080/",
          "height": 449
        },
        "outputId": "47da091c-8092-4bc0-d1e9-aa54d4897b8e",
        "id": "tvY7AShZ-9Hh"
      },
      "execution_count": 11,
      "outputs": [
        {
          "output_type": "display_data",
          "data": {
            "text/plain": [
              "<Figure size 640x480 with 2 Axes>"
            ],
            "image/png": "[encoded data removed]"
          },
          "metadata": {}
        }
      ]
    },
    {
      "cell_type": "markdown",
      "source": [
        "Random Forest Classification Model"
      ],
      "metadata": {
        "id": "pVigbXHj_vzY"
      }
    },
    {
      "cell_type": "code",
      "source": [
        "# Random Forest Classifier\n",
        "bal_rfc = RandomForestClassifier()\n",
        "bal_rfc.fit(x_train_b, y_train_b)\n",
        "bal_rfc_pred = bal_rfc.predict(x_test_b)"
      ],
      "metadata": {
        "id": "6DS236Qn-0lj"
      },
      "execution_count": 12,
      "outputs": []
    },
    {
      "cell_type": "code",
      "source": [
        "# Model Evaluation\n",
        "print('The performance evaluation of Random Forest Classification Model is below: ', '\\n')\n",
        "print('Accuracy Score: ', accuracy_score(y_test_b, bal_rfc_pred), '\\n')\n",
        "print('Confusion Matrix: ', '\\n', confusion_matrix(y_test_b, bal_rfc_pred), '\\n')\n",
        "print('Classification Report: ', '\\n', classification_report(y_test_b, bal_rfc_pred))"
      ],
      "metadata": {
        "colab": {
          "base_uri": "https://localhost:8080/"
        },
        "id": "5alIX-CxDifG",
        "outputId": "c176fdc7-2e63-4b1d-af79-a883a6caafef"
      },
      "execution_count": 13,
      "outputs": [
        {
          "output_type": "stream",
          "name": "stdout",
          "text": [
            "The performance evaluation of Random Forest Classification Model is below:  \n",
            "\n",
            "Accuracy Score:  0.9390862944162437 \n",
            "\n",
            "Confusion Matrix:  \n",
            " [[105   4]\n",
            " [  8  80]] \n",
            "\n",
            "Classification Report:  \n",
            "               precision    recall  f1-score   support\n",
            "\n",
            "           0       0.93      0.96      0.95       109\n",
            "           1       0.95      0.91      0.93        88\n",
            "\n",
            "    accuracy                           0.94       197\n",
            "   macro avg       0.94      0.94      0.94       197\n",
            "weighted avg       0.94      0.94      0.94       197\n",
            "\n"
          ]
        }
      ]
    },
    {
      "cell_type": "code",
      "source": [
        "bal_rfc_conf_mtrx = confusion_matrix(y_test_b, bal_rfc_pred)\n",
        "labels = ['No Fraud', 'Fraud']\n",
        "\n",
        "sns.heatmap(bal_rfc_conf_mtrx, annot= True, fmt= 'd', cmap= 'coolwarm', linewidth= 0.2, xticklabels= labels, yticklabels= labels)\n",
        "plt.xlabel('Predicted')\n",
        "plt.ylabel('Actual')\n",
        "plt.show()"
      ],
      "metadata": {
        "colab": {
          "base_uri": "https://localhost:8080/",
          "height": 449
        },
        "id": "NCV3TdZxEU0C",
        "outputId": "dcd9e29b-f802-4705-9f55-320c4b9086f8"
      },
      "execution_count": 14,
      "outputs": [
        {
          "output_type": "display_data",
          "data": {
            "text/plain": [
              "<Figure size 640x480 with 2 Axes>"
            ],
            "image/png": "[encoded data removed]"
          },
          "metadata": {}
        }
      ]
    },
    {
      "cell_type": "markdown",
      "source": [
        "KNeighbors Classification Model"
      ],
      "metadata": {
        "id": "nSgRWgdCHZk4"
      }
    },
    {
      "cell_type": "code",
      "source": [
        "# KNeighbors Classifier\n",
        "bal_kneib = KNeighborsClassifier()\n",
        "bal_kneib.fit(x_train_b, y_train_b)\n",
        "bal_kneib_pred = bal_kneib.predict(x_test_b)"
      ],
      "metadata": {
        "id": "CgsVOdd-IDmS"
      },
      "execution_count": 19,
      "outputs": []
    },
    {
      "cell_type": "code",
      "source": [
        "# Model Evaluation\n",
        "print('The performance evaluation of KNeighbors Classification Model is below: ', '\\n')\n",
        "print('Accuracy Score: ', accuracy_score(y_test_b, bal_kneib_pred), '\\n')\n",
        "print('Confusion Matrix: ', '\\n', confusion_matrix(y_test_b, bal_kneib_pred), '\\n')\n",
        "print('Classification Report: ', '\\n', classification_report(y_test_b, bal_kneib_pred))"
      ],
      "metadata": {
        "colab": {
          "base_uri": "https://localhost:8080/"
        },
        "id": "ArsmoXe4J3S4",
        "outputId": "0f56744b-984d-49c8-bc37-e6053d853b9b"
      },
      "execution_count": 20,
      "outputs": [
        {
          "output_type": "stream",
          "name": "stdout",
          "text": [
            "The performance evaluation of KNeighbors Classification Model is below:  \n",
            "\n",
            "Accuracy Score:  0.9187817258883249 \n",
            "\n",
            "Confusion Matrix:  \n",
            " [[107   2]\n",
            " [ 14  74]] \n",
            "\n",
            "Classification Report:  \n",
            "               precision    recall  f1-score   support\n",
            "\n",
            "           0       0.88      0.98      0.93       109\n",
            "           1       0.97      0.84      0.90        88\n",
            "\n",
            "    accuracy                           0.92       197\n",
            "   macro avg       0.93      0.91      0.92       197\n",
            "weighted avg       0.92      0.92      0.92       197\n",
            "\n"
          ]
        }
      ]
    },
    {
      "cell_type": "code",
      "source": [
        "bal_kneib_conf_mtrx = confusion_matrix(y_test_b, bal_kneib_pred)\n",
        "labels = ['No Fraud', 'Fraud']\n",
        "\n",
        "sns.heatmap(bal_kneib_conf_mtrx, annot= True, fmt= 'd', cmap='coolwarm', linewidths= 0.2, xticklabels= labels, yticklabels= labels)\n",
        "plt.xlabel('Predicted')\n",
        "plt.ylabel('Actual')\n",
        "plt.show()"
      ],
      "metadata": {
        "colab": {
          "base_uri": "https://localhost:8080/",
          "height": 449
        },
        "id": "nX4_ozmIKyU-",
        "outputId": "a9516b77-1262-414c-bdc8-2085421f80e3"
      },
      "execution_count": 17,
      "outputs": [
        {
          "output_type": "display_data",
          "data": {
            "text/plain": [
              "<Figure size 640x480 with 2 Axes>"
            ],
            "image/png": "[encoded data removed]"
          },
          "metadata": {}
        }
      ]
    },
    {
      "cell_type": "markdown",
      "source": [
        "Summary:\n",
        "\n",
        "* Both models (Logistic Regression, Random Forest and K-Neighbors) perform exceptionally well, achieving high precision, recall, and F1-scores for both classes.\n",
        "\n",
        "* The models show balanced performance in correctly identifying instances of both classes (0 and 1), as indicated by the similarity in precision and recall values.\n",
        "\n",
        "* The F1-scores for both classes are also high, suggesting a good balance between precision and recall."
      ],
      "metadata": {
        "id": "vXSg33Qb9CER"
      }
    },
    {
      "cell_type": "markdown",
      "source": [
        "."
      ],
      "metadata": {
        "id": "pQ-U1bP7J4VQ"
      }
    },
    {
      "cell_type": "markdown",
      "source": [
        "##Over-Sampling Technique"
      ],
      "metadata": {
        "id": "2lgaiLWOJoKf"
      }
    },
    {
      "cell_type": "markdown",
      "source": [
        "### Data Preprocessing"
      ],
      "metadata": {
        "id": "m1_GegTWLYMX"
      }
    },
    {
      "cell_type": "code",
      "source": [
        "df['Class'].value_counts()"
      ],
      "metadata": {
        "colab": {
          "base_uri": "https://localhost:8080/"
        },
        "id": "c9Pya_eUCQeK",
        "outputId": "d82ee0c6-32d4-42e4-a6bf-500c3075268d"
      },
      "execution_count": 32,
      "outputs": [
        {
          "output_type": "execute_result",
          "data": {
            "text/plain": [
              "0    284315\n",
              "1       492\n",
              "Name: Class, dtype: int64"
            ]
          },
          "metadata": {},
          "execution_count": 32
        }
      ]
    },
    {
      "cell_type": "markdown",
      "source": [
        "* Data is not balanced as we see 0 legit transactions are 284315, where as fraud transations are 492.\n",
        "* So we are using the Resampling Technique."
      ],
      "metadata": {
        "id": "nMnCoLfpMLXg"
      }
    },
    {
      "cell_type": "code",
      "source": [
        "# Import Libraries\n",
        "from sklearn.utils import resample"
      ],
      "metadata": {
        "id": "_ypxjKLYPE3o"
      },
      "execution_count": 36,
      "outputs": []
    },
    {
      "cell_type": "code",
      "source": [
        "# Two Dataframe of Majority and Minority Class\n",
        "df_majority = df[df['Class'] == 0]\n",
        "df_minority = df[df['Class'] == 1]\n",
        "\n",
        "# Over-Sampling Minority Class\n",
        "df_minority = resample(df_minority, n_samples= 284315, replace= True, random_state= 42) # df_minor = df[df['Class'] == 1].sample(n= 284315, replace= True, random_state= 42)\n",
        "print(f' Fraud Shape{df_minority.shape}\\n No Fraud Shape{df_majority.shape}')"
      ],
      "metadata": {
        "colab": {
          "base_uri": "https://localhost:8080/"
        },
        "id": "1D5olOixMwJa",
        "outputId": "a457cadb-e340-442a-b6ca-8a8fce57a09f"
      },
      "execution_count": 43,
      "outputs": [
        {
          "output_type": "stream",
          "name": "stdout",
          "text": [
            " Fraud Shape(284315, 31)\n",
            " No Fraud Shape(284315, 31)\n"
          ]
        }
      ]
    },
    {
      "cell_type": "code",
      "source": [
        "# Merge 2 Dtaframe\n",
        "df_oversampled = pd.concat([df_majority, df_minority], ignore_index= True)\n",
        "print(f'Merge Dataset Shape {df_oversampled.shape}')"
      ],
      "metadata": {
        "colab": {
          "base_uri": "https://localhost:8080/"
        },
        "id": "Z05jCDPOTmWJ",
        "outputId": "e4020a98-da0d-4caf-c278-659d02212c8b"
      },
      "execution_count": 44,
      "outputs": [
        {
          "output_type": "stream",
          "name": "stdout",
          "text": [
            "Merge Dataset Shape (568630, 31)\n"
          ]
        }
      ]
    },
    {
      "cell_type": "markdown",
      "source": [
        "Feature Engineering"
      ],
      "metadata": {
        "id": "oopx-5P4Vre-"
      }
    },
    {
      "cell_type": "code",
      "source": [
        "# Select and define features(x) and target variable(y)\n",
        "x_oversamp = df_oversampled.iloc[:,:-1]\n",
        "y_oversamp = df_oversampled['Class']"
      ],
      "metadata": {
        "id": "IR8sREmnWGRi"
      },
      "execution_count": 45,
      "outputs": []
    },
    {
      "cell_type": "code",
      "source": [
        "# Scaling & standardize the features # transforming\n",
        "scaler = StandardScaler()\n",
        "x_oversamp = scaler.fit_transform(x_oversamp)"
      ],
      "metadata": {
        "id": "IYz6qWsyWGRo"
      },
      "execution_count": 46,
      "outputs": []
    },
    {
      "cell_type": "markdown",
      "source": [
        "Data Spliting"
      ],
      "metadata": {
        "id": "BtGZokq_YIru"
      }
    },
    {
      "cell_type": "code",
      "source": [
        "# Splitting the dataset into training and testing parts\n",
        "x_train_os, x_test_os, y_train_os, y_test_os = train_test_split(x_oversamp, y_oversamp, test_size= 0.2, random_state= 123)"
      ],
      "metadata": {
        "id": "VRtdK3BTYdc5"
      },
      "execution_count": 48,
      "outputs": []
    },
    {
      "cell_type": "code",
      "source": [
        "print('x_train_os: ', x_train_os.shape)\n",
        "print('x_test_os: ', x_test_os.shape)\n",
        "print('y_train_os: ', y_train_os.shape)\n",
        "print('y_test_os: ', y_test_os.shape)"
      ],
      "metadata": {
        "colab": {
          "base_uri": "https://localhost:8080/"
        },
        "outputId": "99a60b3a-c25f-4563-ef9a-4b53f850eea4",
        "id": "yuSqNmhhYdc_"
      },
      "execution_count": 49,
      "outputs": [
        {
          "output_type": "stream",
          "name": "stdout",
          "text": [
            "x_train_os:  (454904, 30)\n",
            "x_test_os:  (113726, 30)\n",
            "y_train_os:  (454904,)\n",
            "y_test_os:  (113726,)\n"
          ]
        }
      ]
    },
    {
      "cell_type": "markdown",
      "source": [
        "### Model Building & Evaluation"
      ],
      "metadata": {
        "id": "KoFoSIIkafiI"
      }
    },
    {
      "cell_type": "markdown",
      "source": [
        "Logistic Regression Model"
      ],
      "metadata": {
        "id": "EGAiINoHafiO"
      }
    },
    {
      "cell_type": "code",
      "source": [
        "# Logistic Regression\n",
        "oversamp_lr = LogisticRegression()\n",
        "oversamp_lr.fit(x_train_os, y_train_os)\n",
        "oversamp_lr_pred = oversamp_lr.predict(x_test_os)"
      ],
      "metadata": {
        "id": "jmbtnEJ_afiP"
      },
      "execution_count": 51,
      "outputs": []
    },
    {
      "cell_type": "code",
      "source": [
        "# Model Evaluation\n",
        "print('The performance evaluation of Logistic Regression Model is below: ', '\\n')\n",
        "print('Accuracy Score: ', accuracy_score(y_test_os, oversamp_lr_pred), '\\n')\n",
        "print('Confusion Matrix: ', '\\n', confusion_matrix(y_test_os, oversamp_lr_pred), '\\n')\n",
        "print('Classification Report: ', '\\n', classification_report(y_test_os, oversamp_lr_pred))"
      ],
      "metadata": {
        "colab": {
          "base_uri": "https://localhost:8080/"
        },
        "outputId": "690a9d95-757a-4532-f802-0a528fcdfbe0",
        "id": "5CXwKCi8afiP"
      },
      "execution_count": 52,
      "outputs": [
        {
          "output_type": "stream",
          "name": "stdout",
          "text": [
            "The performance evaluation of Logistic Regression Model is below:  \n",
            "\n",
            "Accuracy Score:  0.9495541916536236 \n",
            "\n",
            "Confusion Matrix:  \n",
            " [[55533  1235]\n",
            " [ 4502 52456]] \n",
            "\n",
            "Classification Report:  \n",
            "               precision    recall  f1-score   support\n",
            "\n",
            "           0       0.93      0.98      0.95     56768\n",
            "           1       0.98      0.92      0.95     56958\n",
            "\n",
            "    accuracy                           0.95    113726\n",
            "   macro avg       0.95      0.95      0.95    113726\n",
            "weighted avg       0.95      0.95      0.95    113726\n",
            "\n"
          ]
        }
      ]
    },
    {
      "cell_type": "code",
      "source": [
        "oversamp_lrgr_conf_mtrx = confusion_matrix(y_test_os, oversamp_lr_pred)\n",
        "labels = ['No Fraud', 'Fraud']\n",
        "\n",
        "sns.heatmap(oversamp_lrgr_conf_mtrx, annot= True, fmt='d', cmap= 'coolwarm', linewidth= 0.2, xticklabels= labels, yticklabels= labels)\n",
        "plt.xlabel('Predicted')\n",
        "plt.ylabel('Actual')\n",
        "plt.show()"
      ],
      "metadata": {
        "colab": {
          "base_uri": "https://localhost:8080/",
          "height": 449
        },
        "outputId": "3aece079-e0ce-4f89-fa48-f71c9ba93999",
        "id": "mDn25J2UafiP"
      },
      "execution_count": 53,
      "outputs": [
        {
          "output_type": "display_data",
          "data": {
            "text/plain": [
              "<Figure size 640x480 with 2 Axes>"
            ],
            "image/png": "[encoded data removed]"
          },
          "metadata": {}
        }
      ]
    },
    {
      "cell_type": "markdown",
      "source": [
        "Random Forest Classification Model"
      ],
      "metadata": {
        "id": "pORhk_Z8afiP"
      }
    },
    {
      "cell_type": "code",
      "source": [
        "# Random Forest Classifier\n",
        "oversamp_rfc = RandomForestClassifier()\n",
        "oversamp_rfc.fit(x_train_os, y_train_os)\n",
        "oversamp_rfc_pred = oversamp_rfc.predict(x_test_os)"
      ],
      "metadata": {
        "id": "-LoZ2dhwafiP"
      },
      "execution_count": 54,
      "outputs": []
    },
    {
      "cell_type": "code",
      "source": [
        "# Model Evaluation\n",
        "print('The performance evaluation of Random Forest Classification Model is below: ', '\\n')\n",
        "print('Accuracy Score: ', accuracy_score(y_test_os, oversamp_rfc_pred), '\\n')\n",
        "print('Confusion Matrix: ', '\\n', confusion_matrix(y_test_os, oversamp_rfc_pred), '\\n')\n",
        "print('Classification Report: ', '\\n', classification_report(y_test_os, oversamp_rfc_pred))"
      ],
      "metadata": {
        "colab": {
          "base_uri": "https://localhost:8080/"
        },
        "outputId": "0b61606d-6b1d-48fc-cb40-78080b342949",
        "id": "UYgZ3Vi0afiP"
      },
      "execution_count": 55,
      "outputs": [
        {
          "output_type": "stream",
          "name": "stdout",
          "text": [
            "The performance evaluation of Random Forest Classification Model is below:  \n",
            "\n",
            "Accuracy Score:  0.9999208624237201 \n",
            "\n",
            "Confusion Matrix:  \n",
            " [[56759     9]\n",
            " [    0 56958]] \n",
            "\n",
            "Classification Report:  \n",
            "               precision    recall  f1-score   support\n",
            "\n",
            "           0       1.00      1.00      1.00     56768\n",
            "           1       1.00      1.00      1.00     56958\n",
            "\n",
            "    accuracy                           1.00    113726\n",
            "   macro avg       1.00      1.00      1.00    113726\n",
            "weighted avg       1.00      1.00      1.00    113726\n",
            "\n"
          ]
        }
      ]
    },
    {
      "cell_type": "code",
      "source": [
        "oversamp_rfc_conf_mtrx = confusion_matrix(y_test_os, oversamp_rfc_pred)\n",
        "labels = ['No Fraud', 'Fraud']\n",
        "\n",
        "sns.heatmap(oversamp_rfc_conf_mtrx, annot= True, fmt= 'd', cmap= 'coolwarm', linewidth= 0.2, xticklabels= labels, yticklabels= labels)\n",
        "plt.xlabel('Predicted')\n",
        "plt.ylabel('Actual')\n",
        "plt.show()"
      ],
      "metadata": {
        "colab": {
          "base_uri": "https://localhost:8080/",
          "height": 449
        },
        "outputId": "49b023aa-7a9f-4c64-fc1b-749d59ab5da0",
        "id": "jDMOYhokafiP"
      },
      "execution_count": 56,
      "outputs": [
        {
          "output_type": "display_data",
          "data": {
            "text/plain": [
              "<Figure size 640x480 with 2 Axes>"
            ],
            "image/png": "[encoded data removed]"
          },
          "metadata": {}
        }
      ]
    },
    {
      "cell_type": "markdown",
      "source": [
        "KNeighbors Classification Model"
      ],
      "metadata": {
        "id": "siCDxUqvafiQ"
      }
    },
    {
      "cell_type": "code",
      "source": [
        "# KNeighbors Classifier\n",
        "oversamp_kneib = KNeighborsClassifier()\n",
        "oversamp_kneib.fit(x_train_os, y_train_os)\n",
        "oversamp_kneib_pred = bal_kneib.predict(x_test_os)"
      ],
      "metadata": {
        "id": "uZ4tai_xafiQ"
      },
      "execution_count": 57,
      "outputs": []
    },
    {
      "cell_type": "code",
      "source": [
        "# Model Evaluation\n",
        "print('The performance evaluation of KNeighbors Classification Model is below: ', '\\n')\n",
        "print('Accuracy Score: ', accuracy_score(y_test_os, oversamp_kneib_pred), '\\n')\n",
        "print('Confusion Matrix: ', '\\n', confusion_matrix(y_test_os, oversamp_kneib_pred), '\\n')\n",
        "print('Classification Report: ', '\\n', classification_report(y_test_os, oversamp_kneib_pred))"
      ],
      "metadata": {
        "colab": {
          "base_uri": "https://localhost:8080/"
        },
        "outputId": "975456a4-d5ae-4365-889b-67d5bf8a739e",
        "id": "Llzc05LsafiQ"
      },
      "execution_count": 58,
      "outputs": [
        {
          "output_type": "stream",
          "name": "stdout",
          "text": [
            "The performance evaluation of KNeighbors Classification Model is below:  \n",
            "\n",
            "Accuracy Score:  0.9299544519283189 \n",
            "\n",
            "Confusion Matrix:  \n",
            " [[55533  1235]\n",
            " [ 6731 50227]] \n",
            "\n",
            "Classification Report:  \n",
            "               precision    recall  f1-score   support\n",
            "\n",
            "           0       0.89      0.98      0.93     56768\n",
            "           1       0.98      0.88      0.93     56958\n",
            "\n",
            "    accuracy                           0.93    113726\n",
            "   macro avg       0.93      0.93      0.93    113726\n",
            "weighted avg       0.93      0.93      0.93    113726\n",
            "\n"
          ]
        }
      ]
    },
    {
      "cell_type": "code",
      "source": [
        "oversamp_kneib_conf_mtrx = confusion_matrix(y_test_os, oversamp_kneib_pred)\n",
        "labels = ['No Fraud', 'Fraud']\n",
        "\n",
        "sns.heatmap(oversamp_kneib_conf_mtrx, annot= True, fmt= 'd', cmap='coolwarm', linewidths= 0.2, xticklabels= labels, yticklabels= labels)\n",
        "plt.xlabel('Predicted')\n",
        "plt.ylabel('Actual')\n",
        "plt.show()"
      ],
      "metadata": {
        "colab": {
          "base_uri": "https://localhost:8080/",
          "height": 449
        },
        "outputId": "37ee20c6-748a-4493-e815-362c58d3202f",
        "id": "L-uJ1M9nafiQ"
      },
      "execution_count": 59,
      "outputs": [
        {
          "output_type": "display_data",
          "data": {
            "text/plain": [
              "<Figure size 640x480 with 2 Axes>"
            ],
            "image/png": "[encoded data removed]"
          },
          "metadata": {}
        }
      ]
    }
  ]
}